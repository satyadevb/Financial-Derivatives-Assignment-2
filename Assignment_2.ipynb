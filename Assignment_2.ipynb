{
 "cells": [
  {
   "cell_type": "markdown",
   "metadata": {
    "colab_type": "text",
    "id": "yjedA52tJzgG"
   },
   "source": [
    "# Binomial_Pricing_Model"
   ]
  },
  {
   "cell_type": "markdown",
   "metadata": {
    "colab_type": "text",
    "id": "klWTmXe9ULHx"
   },
   "source": [
    " Let **S denote the price of the stock today**, and **let T denote the time until expiry of the option**, in years. We'll divide this period into N equal time intervals, of length **ΔT=T/N**\n",
    " Assume that in each time period, the stock price changes by either multiplying by **u, which we consider as an up movement, or by d, the down movement**.\n",
    " We need to assume d<erΔT<u, where r is the risk-free interest rate, to avoid the possibility of arbitrage.  If k time periods have passed, m is number if up movement :\n",
    " S(k,m)=S * u ** m * d ** (k-m) \n",
    "\n",
    "C(N,m)=max(S(N,m)−K,0)\n",
    "\n",
    " Once we know the value of the option at the end of the tree, we can work backward as before to figure out the value of the option at every node. Let C**(k,m)** denote the value of the option at the node that is k steps into the tree with m up movements in the stock price. The two following nodes in the tree are **C(k+1,m+1)** (if the price moves up) and C(k+1,m) (if the price moves down). If we let  **p denote the risk-neutral probability**\n",
    " \n",
    "  p = (e**(rΔT)−d)/(u−d)\n",
    " \n",
    "  of a movement up, then the  **expected value of the option** in the next step is  \n",
    " **pC(k+1,m+1)+(1−p)C(k+1,m)**\n",
    "\n",
    "and so the value of the option at C(k,m) is the above expected value, discounted to today using the risk-free interest rate. That is\n",
    "\n",
    "**C(k,m)=e−rΔT(pC(k+1,m+1)+(1−p)C(k+1,m))**"
   ]
  },
  {
   "cell_type": "code",
   "execution_count": 19,
   "metadata": {
    "colab": {},
    "colab_type": "code",
    "id": "6ofou21WJxa-"
   },
   "outputs": [],
   "source": [
    "import pandas as pd\n",
    "import matplotlib.pyplot as plt\n",
    "import math\n",
    "import numpy as np\n",
    "\n",
    "def first_binomial_call(S, K, T, r, u, d, N):\n",
    "    dt = T/N\n",
    "    p = (math.exp(r*dt) - d)/(u - d)\n",
    "    C = {}\n",
    "    for m in range(0, N+1):\n",
    "            C[(N, m)] = max(S*(u**m)*(d**(N - m)) - K,0)\n",
    "    for k in range(N-1, -1, -1):\n",
    "        for m in range(0,k+1):\n",
    "            C[(k, m)] = (math.exp(-1*r*dt))*(p*C[(k + 1,m + 1)] + (1 - p)*C[(k + 1,m)])\n",
    "    return C"
   ]
  },
  {
   "cell_type": "code",
   "execution_count": null,
   "metadata": {
    "colab": {
     "base_uri": "https://localhost:8080/",
     "height": 34
    },
    "colab_type": "code",
    "id": "sXbSWKzGM0yi",
    "outputId": "cf0e356f-a990-40fd-9420-4d2a78fd6284"
   },
   "outputs": [],
   "source": [
    "call = []\n",
    "for N in range(1,1000,10):\n",
    "  call_price = first_binomial_call(100,105,1,0.1,1.2,0.8,N)\n",
    "  # print(call_price)\n",
    "  call.append(call_price)\n",
    "call = pd.DataFrame(call)\n",
    "call.plot()"
   ]
  },
  {
   "cell_type": "code",
   "execution_count": null,
   "metadata": {
    "colab": {},
    "colab_type": "code",
    "id": "6GFU2JMBGN_R"
   },
   "outputs": [],
   "source": [
    "#What can be the Max possible value of the Call_Option as we increase N?\n",
    "#Ans: Stock price"
   ]
  },
  {
   "cell_type": "markdown",
   "metadata": {
    "colab_type": "text",
    "id": "VDRuFjgoVSyc"
   },
   "source": [
    "# Black_Scholes_Model"
   ]
  },
  {
   "cell_type": "code",
   "execution_count": null,
   "metadata": {
    "colab": {},
    "colab_type": "code",
    "id": "TGod0t-ieVUc"
   },
   "outputs": [],
   "source": [
    "# c = S*N(d1) − K*e**−(rT)*N(d2)\n",
    "# p = K*e**(−rT)*N(−d2) − S*N(−d1)\n",
    "\n",
    "# d1 = (ln(S/K)+(r+(σ**2)/2)*T)/sigma*T**0.5\n",
    "# d2 =  d1−sigma*T**0.5"
   ]
  },
  {
   "cell_type": "code",
   "execution_count": 10,
   "metadata": {
    "colab": {},
    "colab_type": "code",
    "id": "rVyiiAg_flPK"
   },
   "outputs": [],
   "source": [
    "import scipy.stats as si\n",
    "import sympy as sy\n",
    "import numpy as np\n",
    "import math\n",
    "from scipy.stats import norm\n",
    "from sympy.stats import Normal, cdf\n",
    "from datetime import datetime\n",
    "\n",
    "import warnings\n",
    "warnings.filterwarnings(\"ignore\")"
   ]
  },
  {
   "cell_type": "markdown",
   "metadata": {
    "colab_type": "text",
    "id": "WITx5K4Ed1SN"
   },
   "source": [
    "<!-- c=S*N(d1) − K**e(-rT)*N(d2)\n",
    "\n",
    "p=K**e(-rT)*N(−d2) − S*N(−d1)\n",
    "\n",
    "d1=ln(S0/K)+(r+σ2/2)TσT−−√\n",
    "\n",
    "d2=ln(S0/K)+(r−σ2/2)TσT−−√=d1−σT−−√ -->"
   ]
  },
  {
   "cell_type": "code",
   "execution_count": 13,
   "metadata": {
    "colab": {},
    "colab_type": "code",
    "id": "FA0BGqcqV-Zo"
   },
   "outputs": [],
   "source": [
    "def euro_vanilla(S, K, T, r, sigma, option = 'call'):\n",
    "    \n",
    "    #S: spot price\n",
    "    #K: strike price\n",
    "    #T: time to maturity\n",
    "    #r: interest rate\n",
    "    #sigma: volatility of underlying asset\n",
    "    \n",
    "    d1 = (np.log(S/K)+(r+(sigma**2)/2)*T)/(sigma*(T**0.5))\n",
    "    d2 = d1 - (sigma * (T**0.5))\n",
    "    \n",
    "    if option == 'call':\n",
    "        result = S * norm.cdf(d1) - K * math.exp(-(r * T)) * norm.cdf(d2)\n",
    "    if option == 'put':\n",
    "        result =  K * (math.exp(-(r * T))) * norm.cdf(-d2) - S * norm.cdf(-d1)\n",
    "        \n",
    "    return result"
   ]
  },
  {
   "cell_type": "code",
   "execution_count": 14,
   "metadata": {
    "colab": {
     "base_uri": "https://localhost:8080/",
     "height": 34
    },
    "colab_type": "code",
    "id": "S3ixCAILbFW7",
    "outputId": "85283862-a1a8-4a3e-eb67-48e7436dbd8f"
   },
   "outputs": [
    {
     "data": {
      "text/plain": [
       "0.5378742795035265"
      ]
     },
     "execution_count": 14,
     "metadata": {},
     "output_type": "execute_result"
    }
   ],
   "source": [
    "euro_vanilla(S = 80, K=120, T=1, r=0.02/252, sigma=.25, option = 'call')"
   ]
  },
  {
   "cell_type": "code",
   "execution_count": 15,
   "metadata": {
    "colab": {
     "base_uri": "https://localhost:8080/",
     "height": 74,
     "resources": {
      "http://localhost:8080/nbextensions/google.colab/files.js": {
       "data": "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",
       "headers": [
        [
         "content-type",
         "application/javascript"
        ]
       ],
       "ok": true,
       "status": 200,
       "status_text": ""
      }
     }
    },
    "colab_type": "code",
    "id": "CxqzRlEpn2l5",
    "outputId": "d73e1a8a-f446-4a10-c2aa-a813a068b3e5"
   },
   "outputs": [
    {
     "ename": "ModuleNotFoundError",
     "evalue": "No module named 'google.colab'",
     "output_type": "error",
     "traceback": [
      "\u001b[1;31m---------------------------------------------------------------------------\u001b[0m",
      "\u001b[1;31mModuleNotFoundError\u001b[0m                       Traceback (most recent call last)",
      "\u001b[1;32m<ipython-input-15-21dc3c638f66>\u001b[0m in \u001b[0;36m<module>\u001b[1;34m\u001b[0m\n\u001b[1;32m----> 1\u001b[1;33m \u001b[1;32mfrom\u001b[0m \u001b[0mgoogle\u001b[0m\u001b[1;33m.\u001b[0m\u001b[0mcolab\u001b[0m \u001b[1;32mimport\u001b[0m \u001b[0mfiles\u001b[0m\u001b[1;33m\u001b[0m\u001b[1;33m\u001b[0m\u001b[0m\n\u001b[0m\u001b[0;32m      2\u001b[0m \u001b[0muploaded\u001b[0m \u001b[1;33m=\u001b[0m \u001b[0mfiles\u001b[0m\u001b[1;33m.\u001b[0m\u001b[0mupload\u001b[0m\u001b[1;33m(\u001b[0m\u001b[1;33m)\u001b[0m\u001b[1;33m\u001b[0m\u001b[1;33m\u001b[0m\u001b[0m\n",
      "\u001b[1;31mModuleNotFoundError\u001b[0m: No module named 'google.colab'"
     ]
    }
   ],
   "source": [
    "from google.colab import files\n",
    "uploaded = files.upload()"
   ]
  },
  {
   "cell_type": "code",
   "execution_count": 18,
   "metadata": {
    "colab": {
     "base_uri": "https://localhost:8080/",
     "height": 218
    },
    "colab_type": "code",
    "id": "NmXeEdXgGYpQ",
    "outputId": "7b0cfd53-1578-4563-a7c7-76a07477389b"
   },
   "outputs": [
    {
     "data": {
      "text/plain": [
       "0      CE\n",
       "1      CE\n",
       "2      CE\n",
       "3      CE\n",
       "4      CE\n",
       "5      CE\n",
       "6      CE\n",
       "7      CE\n",
       "8      CE\n",
       "9      CE\n",
       "10     CE\n",
       "11     CE\n",
       "12     CE\n",
       "13     CE\n",
       "14     CE\n",
       "15     CE\n",
       "16     CE\n",
       "17     CE\n",
       "18     CE\n",
       "19     CE\n",
       "20     CE\n",
       "21     CE\n",
       "22     CE\n",
       "23     CE\n",
       "24     CE\n",
       "25     CE\n",
       "26     CE\n",
       "27     CE\n",
       "28     CE\n",
       "29     CE\n",
       "       ..\n",
       "89     CE\n",
       "90     CE\n",
       "91     CE\n",
       "92     CE\n",
       "93     CE\n",
       "94     CE\n",
       "95     CE\n",
       "96     CE\n",
       "97     CE\n",
       "98     CE\n",
       "99     CE\n",
       "100    CE\n",
       "101    CE\n",
       "102    CE\n",
       "103    CE\n",
       "104    CE\n",
       "105    CE\n",
       "106    CE\n",
       "107    CE\n",
       "108    CE\n",
       "109    CE\n",
       "110    CE\n",
       "111    CE\n",
       "112    CE\n",
       "113    CE\n",
       "114    CE\n",
       "115    CE\n",
       "116    CE\n",
       "117    CE\n",
       "118    CE\n",
       "Name: Option Type, Length: 119, dtype: object"
      ]
     },
     "execution_count": 18,
     "metadata": {},
     "output_type": "execute_result"
    }
   ],
   "source": [
    "# Fetching nifty_data\n",
    "\n",
    "nifty_data = pd.read_csv('Option_data_NIFTY.csv')\n",
    "\n",
    "nifty_data['Option Type']\n"
   ]
  },
  {
   "cell_type": "code",
   "execution_count": 0,
   "metadata": {
    "colab": {
     "base_uri": "https://localhost:8080/",
     "height": 455
    },
    "colab_type": "code",
    "id": "kBIA_jifHLiD",
    "outputId": "bdcb1a4c-373a-431a-d94b-0f657f623f9b"
   },
   "outputs": [
    {
     "data": {
      "text/html": [
       "<div>\n",
       "<style scoped>\n",
       "    .dataframe tbody tr th:only-of-type {\n",
       "        vertical-align: middle;\n",
       "    }\n",
       "\n",
       "    .dataframe tbody tr th {\n",
       "        vertical-align: top;\n",
       "    }\n",
       "\n",
       "    .dataframe thead th {\n",
       "        text-align: right;\n",
       "    }\n",
       "</style>\n",
       "<table border=\"1\" class=\"dataframe\">\n",
       "  <thead>\n",
       "    <tr style=\"text-align: right;\">\n",
       "      <th></th>\n",
       "      <th>Symbol</th>\n",
       "      <th>Date</th>\n",
       "      <th>Expiry</th>\n",
       "      <th>Option Type</th>\n",
       "      <th>Strike Price</th>\n",
       "      <th>Open</th>\n",
       "      <th>High</th>\n",
       "      <th>Low</th>\n",
       "      <th>Close</th>\n",
       "      <th>LTP</th>\n",
       "      <th>Settle Price</th>\n",
       "      <th>No. of contracts</th>\n",
       "      <th>Turnover in Lacs</th>\n",
       "      <th>Premium Turnover in Lacs</th>\n",
       "      <th>Open Int</th>\n",
       "      <th>Change in OI</th>\n",
       "      <th>Underlying Value</th>\n",
       "      <th>Time to Expiry</th>\n",
       "      <th>volatility</th>\n",
       "      <th>Theoritical_Call</th>\n",
       "      <th>Theoritical_Put</th>\n",
       "    </tr>\n",
       "    <tr>\n",
       "      <th>Date</th>\n",
       "      <th></th>\n",
       "      <th></th>\n",
       "      <th></th>\n",
       "      <th></th>\n",
       "      <th></th>\n",
       "      <th></th>\n",
       "      <th></th>\n",
       "      <th></th>\n",
       "      <th></th>\n",
       "      <th></th>\n",
       "      <th></th>\n",
       "      <th></th>\n",
       "      <th></th>\n",
       "      <th></th>\n",
       "      <th></th>\n",
       "      <th></th>\n",
       "      <th></th>\n",
       "      <th></th>\n",
       "      <th></th>\n",
       "      <th></th>\n",
       "      <th></th>\n",
       "    </tr>\n",
       "  </thead>\n",
       "  <tbody>\n",
       "    <tr>\n",
       "      <th>2017-10-11</th>\n",
       "      <td>NIFTY</td>\n",
       "      <td>2017-10-11</td>\n",
       "      <td>28-Dec-17</td>\n",
       "      <td>CE</td>\n",
       "      <td>10500</td>\n",
       "      <td>117.45</td>\n",
       "      <td>128.45</td>\n",
       "      <td>92.60</td>\n",
       "      <td>112.20</td>\n",
       "      <td>117.70</td>\n",
       "      <td>112.20</td>\n",
       "      <td>8500</td>\n",
       "      <td>67640.94</td>\n",
       "      <td>703.44</td>\n",
       "      <td>1862175</td>\n",
       "      <td>2625</td>\n",
       "      <td>10321.75</td>\n",
       "      <td>48</td>\n",
       "      <td>66.266911</td>\n",
       "      <td>123</td>\n",
       "      <td>261</td>\n",
       "    </tr>\n",
       "    <tr>\n",
       "      <th>2017-11-13</th>\n",
       "      <td>NIFTY</td>\n",
       "      <td>2017-11-13</td>\n",
       "      <td>28-Dec-17</td>\n",
       "      <td>CE</td>\n",
       "      <td>10500</td>\n",
       "      <td>115.80</td>\n",
       "      <td>119.00</td>\n",
       "      <td>87.00</td>\n",
       "      <td>90.15</td>\n",
       "      <td>88.80</td>\n",
       "      <td>90.15</td>\n",
       "      <td>9905</td>\n",
       "      <td>78746.59</td>\n",
       "      <td>744.72</td>\n",
       "      <td>1929600</td>\n",
       "      <td>67425</td>\n",
       "      <td>10224.95</td>\n",
       "      <td>45</td>\n",
       "      <td>66.266911</td>\n",
       "      <td>85</td>\n",
       "      <td>322</td>\n",
       "    </tr>\n",
       "    <tr>\n",
       "      <th>2017-11-14</th>\n",
       "      <td>NIFTY</td>\n",
       "      <td>2017-11-14</td>\n",
       "      <td>28-Dec-17</td>\n",
       "      <td>CE</td>\n",
       "      <td>10500</td>\n",
       "      <td>88.45</td>\n",
       "      <td>88.65</td>\n",
       "      <td>72.30</td>\n",
       "      <td>75.30</td>\n",
       "      <td>72.40</td>\n",
       "      <td>75.30</td>\n",
       "      <td>12156</td>\n",
       "      <td>96450.99</td>\n",
       "      <td>722.49</td>\n",
       "      <td>1912725</td>\n",
       "      <td>-16875</td>\n",
       "      <td>10186.60</td>\n",
       "      <td>44</td>\n",
       "      <td>66.266911</td>\n",
       "      <td>72</td>\n",
       "      <td>349</td>\n",
       "    </tr>\n",
       "    <tr>\n",
       "      <th>2017-11-15</th>\n",
       "      <td>NIFTY</td>\n",
       "      <td>2017-11-15</td>\n",
       "      <td>28-Dec-17</td>\n",
       "      <td>CE</td>\n",
       "      <td>10500</td>\n",
       "      <td>68.00</td>\n",
       "      <td>68.00</td>\n",
       "      <td>46.20</td>\n",
       "      <td>52.60</td>\n",
       "      <td>54.90</td>\n",
       "      <td>52.60</td>\n",
       "      <td>16289</td>\n",
       "      <td>128968.10</td>\n",
       "      <td>692.23</td>\n",
       "      <td>1864575</td>\n",
       "      <td>-48150</td>\n",
       "      <td>10118.05</td>\n",
       "      <td>43</td>\n",
       "      <td>66.266911</td>\n",
       "      <td>54</td>\n",
       "      <td>400</td>\n",
       "    </tr>\n",
       "    <tr>\n",
       "      <th>2017-11-16</th>\n",
       "      <td>NIFTY</td>\n",
       "      <td>2017-11-16</td>\n",
       "      <td>28-Dec-17</td>\n",
       "      <td>CE</td>\n",
       "      <td>10500</td>\n",
       "      <td>53.45</td>\n",
       "      <td>74.95</td>\n",
       "      <td>52.00</td>\n",
       "      <td>70.15</td>\n",
       "      <td>73.35</td>\n",
       "      <td>70.15</td>\n",
       "      <td>11445</td>\n",
       "      <td>90666.33</td>\n",
       "      <td>536.96</td>\n",
       "      <td>1737450</td>\n",
       "      <td>-127125</td>\n",
       "      <td>10214.75</td>\n",
       "      <td>42</td>\n",
       "      <td>66.266911</td>\n",
       "      <td>76</td>\n",
       "      <td>326</td>\n",
       "    </tr>\n",
       "    <tr>\n",
       "      <th>2017-11-17</th>\n",
       "      <td>NIFTY</td>\n",
       "      <td>2017-11-17</td>\n",
       "      <td>28-Dec-17</td>\n",
       "      <td>CE</td>\n",
       "      <td>10500</td>\n",
       "      <td>99.90</td>\n",
       "      <td>113.55</td>\n",
       "      <td>84.65</td>\n",
       "      <td>90.25</td>\n",
       "      <td>87.40</td>\n",
       "      <td>90.25</td>\n",
       "      <td>15318</td>\n",
       "      <td>121816.56</td>\n",
       "      <td>1187.31</td>\n",
       "      <td>1739100</td>\n",
       "      <td>1650</td>\n",
       "      <td>10283.60</td>\n",
       "      <td>41</td>\n",
       "      <td>66.266911</td>\n",
       "      <td>94</td>\n",
       "      <td>277</td>\n",
       "    </tr>\n",
       "    <tr>\n",
       "      <th>2017-11-20</th>\n",
       "      <td>NIFTY</td>\n",
       "      <td>2017-11-20</td>\n",
       "      <td>28-Dec-17</td>\n",
       "      <td>CE</td>\n",
       "      <td>10500</td>\n",
       "      <td>87.00</td>\n",
       "      <td>101.40</td>\n",
       "      <td>79.40</td>\n",
       "      <td>95.20</td>\n",
       "      <td>95.85</td>\n",
       "      <td>95.20</td>\n",
       "      <td>15185</td>\n",
       "      <td>120630.57</td>\n",
       "      <td>1048.69</td>\n",
       "      <td>1930800</td>\n",
       "      <td>191700</td>\n",
       "      <td>10298.75</td>\n",
       "      <td>38</td>\n",
       "      <td>66.266911</td>\n",
       "      <td>93</td>\n",
       "      <td>262</td>\n",
       "    </tr>\n",
       "  </tbody>\n",
       "</table>\n",
       "</div>"
      ],
      "text/plain": [
       "           Symbol       Date  ... Theoritical_Call Theoritical_Put\n",
       "Date                          ...                                 \n",
       "2017-10-11  NIFTY 2017-10-11  ...              123             261\n",
       "2017-11-13  NIFTY 2017-11-13  ...               85             322\n",
       "2017-11-14  NIFTY 2017-11-14  ...               72             349\n",
       "2017-11-15  NIFTY 2017-11-15  ...               54             400\n",
       "2017-11-16  NIFTY 2017-11-16  ...               76             326\n",
       "2017-11-17  NIFTY 2017-11-17  ...               94             277\n",
       "2017-11-20  NIFTY 2017-11-20  ...               93             262\n",
       "\n",
       "[7 rows x 21 columns]"
      ]
     },
     "execution_count": 23,
     "metadata": {
      "tags": []
     },
     "output_type": "execute_result"
    }
   ],
   "source": [
    "# Pick a Strike of your choice. Calculate required inputs for pricing the call and put option of that strike for all the dates\n",
    "\n",
    "Strike_Price = 11200\n",
    "new_data = nifty_data[nifty_data['Strike Price'] == Strike_Price]\n",
    "new_data['volatility'] =  ________\n",
    "\n",
    "new_data['Theoritical_Call'] = 0\n",
    "new_data['Theoritical_Put'] = 0\n",
    "\n",
    "new_data['Date'] = pd.to_datetime(new_data['Date'])\n",
    "new_data.index  = new_data['Date'] \n",
    "\n",
    "for i in range(len(new_data)):\n",
    "  new_data['Theoritical_Call'][i] = euro_vanilla(S = nifty_data['Open'], K = nifty_data['Strike Price'], T = nifty_data['Time to Expiry'], r = ______, sigma= ______ , option = 'call')\n",
    "  new_data['Theoritical_Put'][i] = euro_vanilla(S = nifty_data['Open'], K = nifty_data['Strike Price'], T = nifty_data['Time to Expiry'], r = ______, sigma= ______ , option = 'put')\n",
    "  "
   ]
  },
  {
   "cell_type": "markdown",
   "metadata": {
    "colab_type": "text",
    "id": "qFKtcMyXoxB7"
   },
   "source": []
  },
  {
   "cell_type": "code",
   "execution_count": 0,
   "metadata": {
    "colab": {
     "base_uri": "https://localhost:8080/",
     "height": 302
    },
    "colab_type": "code",
    "id": "XFoT72TykQmW",
    "outputId": "0b2a174f-e188-47ff-a228-d49814875942"
   },
   "outputs": [
    {
     "data": {
      "text/plain": [
       "<matplotlib.axes._subplots.AxesSubplot at 0x7f783694cba8>"
      ]
     },
     "execution_count": 11,
     "metadata": {
      "tags": []
     },
     "output_type": "execute_result"
    },
    {
     "data": {
      "image/png": "[encoded data removed]",
      "text/plain": [
       "<Figure size 432x288 with 1 Axes>"
      ]
     },
     "metadata": {
      "needs_background": "light",
      "tags": []
     },
     "output_type": "display_data"
    }
   ],
   "source": [
    "# Implement the put_call_parity by taking all the values on one side and calculate the net sum. Plot the sum to check how is the parity represented in real world options\n",
    "new_data['Put_Call_Parity'] = new_data['Theoritical_Call'] - new_data['Theoritical_Put'] - new_data['Underlying Value'] + new_data['Strike Price']*np.exp(-0.02/252 * new_data['Time to Expiry'])\n",
    "new_data['Put_Call_Parity'].plot()"
   ]
  },
  {
   "cell_type": "code",
   "execution_count": 0,
   "metadata": {
    "colab": {},
    "colab_type": "code",
    "id": "B8UMACHToJNU"
   },
   "outputs": [],
   "source": []
  }
 ],
 "metadata": {
  "colab": {
   "collapsed_sections": [],
   "name": "Assignment_2.ipynb",
   "provenance": []
  },
  "kernelspec": {
   "display_name": "Python 3",
   "language": "python",
   "name": "python3"
  },
  "language_info": {
   "codemirror_mode": {
    "name": "ipython",
    "version": 3
   },
   "file_extension": ".py",
   "mimetype": "text/x-python",
   "name": "python",
   "nbconvert_exporter": "python",
   "pygments_lexer": "ipython3",
   "version": "3.7.3"
  }
 },
 "nbformat": 4,
 "nbformat_minor": 1
}
